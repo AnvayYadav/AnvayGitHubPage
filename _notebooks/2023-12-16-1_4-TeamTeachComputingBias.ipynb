{
 "cells": [
  {
   "cell_type": "markdown",
   "metadata": {},
   "source": [
    "---\n",
    "layout: post\n",
    "title: Undecidable Problems\n",
    "description: Undecidable Problems\n",
    "type: tangibles\n",
    "author: Safin Singh and Rohan Juneja\n",
    "permalink: /basics/js-debug\n",
    "comments: True \n",
    "courses: {compsci: {week: 12} }\n",
    "---"
   ]
  },
  {
   "cell_type": "markdown",
   "metadata": {},
   "source": []
  },
  {
   "cell_type": "markdown",
   "metadata": {},
   "source": [
    "\n",
    "\n",
    "## Define “computer bias” in your own words and explain how it can result from intentional or unintentional factors in software development. Give a brief example of this. Explain how programmers can actively work to reduce bias in their algorithms?\n",
    "\n",
    "Computer bias is an instance where a computer's behavior changes due to the inputs it receives from humans or the coding decisions made by its developers.\n",
    "\n",
    "Intentional bias is when purposeful actions are taken during software development to achieve specific outcomes. For instance, in the content recommendation algorithms of Netflix and Hulu. Intentional bias can be introduced to prioritize exclusive content from a streaming service, encouraging users to subscribe. Another intentional bias can emerge in research studies, where researchers selectively choose data or participants to manipulate outcomes.\n",
    "\n",
    "Unintentional bias occurs when programmed systems inadvertently favor certain groups or outcomes. A classic example is found in facial recognition technology. If the algorithm is trained primarily on data featuring individuals of one racial group, it may struggle to accurately recognize faces from other racial backgrounds. The unintentional bias emerges from the lack of racial variety in the data set.\n",
    "\n",
    "To actively reduce bias in algorithms, programmers can take several measures. One crucial step is to diversify the dataset used for training, which in the example above would be including all races in facial recognition software training.\n",
    "\n",
    "\n",
    "\n",
    "## Briefly describe the two types of bias in software development and provide examples from the gaming industry and social media platforms. How might biases in software design affect user engagement and experiences?\n",
    "\n",
    "\n",
    "\n",
    "Two types of bias are intentional and unintentional. Intentional bias is where the computer is intentionally programmed to act a certain way based on input. The student lesson includes how Talking Tom(funny characters, nice music) targets younger kids and Violent video games with shooting and bombing targets teens and older people.\n",
    "\n",
    "YouTubers use bias to target a certain audience. They change their editing style and music and personality. Cocmolen videos are edited in a way to maximize engagement from kids alongside cartoony thumbnails for kids.\n",
    "Biases discriminate against users by favoring one group over another which will decrease engagement and user experience. The discrimination can between groups whether it be age, race, or something else.\n",
    "\n"
   ]
  }
 ],
 "metadata": {
  "kernelspec": {
   "display_name": "Python 3.10.6 64-bit",
   "language": "python",
   "name": "python3"
  },
  "language_info": {
   "codemirror_mode": {
    "name": "ipython",
    "version": 3
   },
   "file_extension": ".py",
   "mimetype": "text/x-python",
   "name": "python",
   "nbconvert_exporter": "python",
   "pygments_lexer": "ipython3",
   "version": "3.10.12"
  },
  "orig_nbformat": 4,
  "vscode": {
   "interpreter": {
    "hash": "aee8b7b246df8f9039afb4144a1f6fd8d2ca17a180786b69acc140d282b71a49"
   }
  }
 },
 "nbformat": 4,
 "nbformat_minor": 2
}

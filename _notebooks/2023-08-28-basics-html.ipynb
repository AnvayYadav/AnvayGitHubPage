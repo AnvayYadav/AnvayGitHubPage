{
 "cells": [
  {
   "cell_type": "markdown",
   "metadata": {},
   "source": [
    "---\n",
    "layout: post\n",
    "hide: True\n",
    "title: Basics of HTML Guide\n",
    "description: An introduction to basic HTML, and resources to learn more.\n",
    "type: hacks\n",
    "permalink: /basics/html\n",
    "author: Rohan Juneja\n",
    "comments: True \n",
    "courses: {compsci: {week: 5} }\n",
    "---"
   ]
  },
  {
   "cell_type": "raw",
   "metadata": {},
   "source": [
    "{% include nav_basics.html %}\n"
   ]
  },
  {
   "cell_type": "markdown",
   "metadata": {},
   "source": [
    "\n",
    "# How does HTML work?\n",
    "Similar function to Markdown, syntax defines how stuff should be displayed\n",
    "- HTML is based on beginning and closing tags `<tagname>content</tagname>`\n",
    "  - Note the \"/\" on the ending or closing tag of the pair"
   ]
  },
  {
   "cell_type": "markdown",
   "metadata": {},
   "source": [
    "## Compare markdown to html below\n",
    "This below example shows comparison of a [heading](https://www.w3schools.com/html/html_headings.asp) and [paragraph](https://www.w3schools.com/html/html_paragraphs.asp).  Click on links to see many more HTML examples."
   ]
  },
  {
   "cell_type": "code",
   "execution_count": 3,
   "metadata": {},
   "outputs": [
    {
     "data": {
      "text/markdown": [
       "\n",
       "### Markdown: This is a Heading\n",
       "\n",
       "This is a paragraph\n"
      ],
      "text/plain": [
       "<IPython.core.display.Markdown object>"
      ]
     },
     "metadata": {},
     "output_type": "display_data"
    }
   ],
   "source": [
    "%%markdown\n",
    "\n",
    "### Markdown: This is a Heading\n",
    "\n",
    "This is a paragraph\n"
   ]
  },
  {
   "cell_type": "code",
   "execution_count": 4,
   "metadata": {
    "vscode": {
     "languageId": "html"
    }
   },
   "outputs": [
    {
     "data": {
      "text/html": [
       "\n",
       "<html lang=\"en\">\n",
       "<head>\n",
       "    <meta charset=\"UTF-8\">\n",
       "    <meta name=\"viewport\" content=\"width=device-width, initial-scale=1.0\">\n",
       "    <title>Shoe Product Page</title>\n",
       "    <link rel=\"stylesheet\" href=\"styles.css\"> <!-- You can link to an external CSS file for styling -->\n",
       "</head>\n",
       "<body>\n",
       "    <header>\n",
       "        <h1>Shoe Shop</h1>\n",
       "        <nav>\n",
       "            <ul>\n",
       "                <li><a href=\"#\">Home</a></li>\n",
       "                <li><a href=\"#\">Products</a></li>\n",
       "                <li><a href=\"#\">Contact</a></li>\n",
       "            </ul>\n",
       "        </nav>\n",
       "    </header>\n",
       "\n",
       "    <main>\n",
       "        <section class=\"product\">\n",
       "            <img src=\"shoe.jpg\" alt=\"Shoe Image\">\n",
       "            <h2>Men's Running Shoe</h2>\n",
       "            <p>High-quality running shoe designed for comfort and performance.</p>\n",
       "            <p><strong>Price:</strong> $79.99</p>\n",
       "            <button>Add to Cart</button>\n",
       "        </section>\n",
       "    </main>\n",
       "\n",
       "    <footer>\n",
       "        <p>&copy; 2023 Shoe Shop</p>\n",
       "    </footer>\n",
       "</body>\n",
       "</html>\n"
      ],
      "text/plain": [
       "<IPython.core.display.HTML object>"
      ]
     },
     "metadata": {},
     "output_type": "display_data"
    }
   ],
   "source": [
    "%%html\n",
    "\n",
    "<html lang=\"en\">\n",
    "<head>\n",
    "    <meta charset=\"UTF-8\">\n",
    "    <meta name=\"viewport\" content=\"width=device-width, initial-scale=1.0\">\n",
    "    <title>Shoe Product Page</title>\n",
    "    <link rel=\"stylesheet\" href=\"styles.css\"> <!-- You can link to an external CSS file for styling -->\n",
    "</head>\n",
    "<body>\n",
    "    <header>\n",
    "        <h1>Shoe Shop</h1>\n",
    "        <nav>\n",
    "            <ul>\n",
    "                <li><a href=\"#\">Home</a></li>\n",
    "                <li><a href=\"#\">Products</a></li>\n",
    "                <li><a href=\"#\">Contact</a></li>\n",
    "            </ul>\n",
    "        </nav>\n",
    "    </header>\n",
    "\n",
    "    <main>\n",
    "        <section class=\"product\">\n",
    "            <img src=\"shoe.jpg\" alt=\"Shoe Image\">\n",
    "            <h2>Men's Running Shoe</h2>\n",
    "            <p>High-quality running shoe designed for comfort and performance.</p>\n",
    "            <p><strong>Price:</strong> $79.99</p>\n",
    "            <button>Add to Cart</button>\n",
    "        </section>\n",
    "    </main>\n",
    "\n",
    "    <footer>\n",
    "        <p>&copy; 2023 Shoe Shop</p>\n",
    "    </footer>\n",
    "</body>\n",
    "</html>\n"
   ]
  },
  {
   "cell_type": "markdown",
   "metadata": {},
   "source": [
    "# Attributes\n",
    "- Learn about [attributes](https://www.w3schools.com/html/html_attributes.asp) \n",
    "- Tags can have additional info in the form of attributes\n",
    "- Attributes usually come in name/value pairs like: name=\"value\"\n",
    "\n",
    "```html\n",
    "<tagname attribute_name=\"attribute_value\" another_attribute=\"another_value\">inner html text</tagname>\n",
    "```\n",
    "\n",
    "- href example with attribute for web link and inner html to describe link\n",
    "\n",
    "```html\n",
    "<a href=\"https://www.w3schools.com/html/default.asp\">Visit W3Schools HTML Page</a>\n",
    "```"
   ]
  },
  {
   "cell_type": "markdown",
   "metadata": {},
   "source": [
    "## Sample Markdown vs HTML Tags\n",
    "Image Tag - Markdown\n",
    "\n",
    "```md\n",
    "![describe image](link to image)\n",
    "```\n",
    "\n",
    "Image Tag - HTML\n",
    "\n",
    "```html\n",
    "<!-- no content so no end tag, width/height is optional (in pixels) -->\n",
    "<img alt=\"describe image\" src=\"link to image\" width=\"100\" height=\"200\">\n",
    "```\n",
    "\n",
    "Link Tag - Markdown\n",
    "\n",
    "```md\n",
    "[link text](link)\n",
    "```\n",
    "\n",
    "Link Tag - HTML\n",
    "\n",
    "```html\n",
    "<a href=\"link\">link text</a>\n",
    "```\n",
    "\n",
    "Bolded Text - Markdown\n",
    "\n",
    "```md\n",
    "**Bolded Text**\n",
    "```\n",
    "\n",
    "Bolded Text - HTML\n",
    "\n",
    "```md\n",
    "<strong>Bolded Text</strong>\n",
    "```\n",
    "\n",
    "Italic Text - Markdown\n",
    "\n",
    "```md\n",
    "*Italic Text*\n",
    "```\n",
    "\n",
    "Italic Text - HTML\n",
    "\n",
    "```md\n",
    "<i>Italic Text</i>\n",
    "```"
   ]
  },
  {
   "cell_type": "markdown",
   "metadata": {},
   "source": [
    "# More tags (not really in markdown)\n",
    "P tag (just represeants a paragraph/normal text)\n",
    "\n",
    "```html\n",
    "<p>This is a paragraph</p>\n",
    "```\n",
    "\n",
    "Button\n",
    "\n",
    "```html\n",
    "<button>some button text</button>\n",
    "```\n",
    "\n",
    "Div (groups together related content)\n",
    "\n",
    "```html\n",
    "<!-- first information -->\n",
    "<div>\n",
    "    <!-- notice how tags can be put INSIDE eachother -->\n",
    "    <p>This is the first paragarph of section 1</p>\n",
    "    <p>This is the second paragraph of section 1</p>\n",
    "</div>\n",
    "\n",
    "<!-- second information -->\n",
    "<div>\n",
    "    <!-- notice how tags can be put INSIDE eachother -->\n",
    "    <p>This is the first paragarph of section 2</p>\n",
    "    <p>This is the second paragraph of section 2</p>\n",
    "</div>\n",
    "```\n",
    "\n"
   ]
  },
  {
   "cell_type": "markdown",
   "metadata": {},
   "source": [
    "# Resources\n",
    "- https://www.w3schools.com/html/default.asp\n",
    "- I will show a demo of how to find information on this website"
   ]
  },
  {
   "cell_type": "markdown",
   "metadata": {},
   "source": [
    "# HTML Hacks\n",
    "- Below is a wireframe for an HTML element you will create. A wireframe is a rough visual representation of HTML elements on a page and isn't necessarily to scale or have the exact styling that the final HTML will have. Using the syntax above, try to create an HTML snippet that corresponds to the below wireframe.\n",
    "- The \"a tags\" can contain any links that you want\n",
    "\n",
    "![wireframe for html hacks]({{ site.baseurl }}/images/wireframe.png)"
   ]
  },
  {
   "cell_type": "code",
   "execution_count": 10,
   "metadata": {
    "vscode": {
     "languageId": "html"
    }
   },
   "outputs": [
    {
     "data": {
      "text/html": [
       "\n",
       "<html>\n",
       "<head>\n",
       "</head>\n",
       "<body>\n",
       "    <div>\n",
       "        <p>LeBron James is a legendary basketball player known for his incredible skills on the court. He has won numerous championships and awards throughout his career!</p>\n",
       "        <button id=\"dunkButton\">\"Dunk\"!</button>\n",
       "    </div>\n",
       "    <div>\n",
       "        <a href=\"https://docs.google.com/document/d/160j5RblFoiSHhxt9o7BoCjeJxp2bmlFhHIhuBIXGMgM/edit\">LeBron James Profile</a>\n",
       "        <a href=\"https://docs.google.com/document/d/1qSDVEV-sg9p-vrqG6FtVjlf8HdwCwc7TJXfN6eNRJUk/edit\">LeBron James Career</a>\n",
       "        <p>Overall, LeBron James is an iconic basketball player and a true legend in the world of sports!</p>\n",
       "    </div>\n",
       "\n",
       "    <script>\n",
       "        document.getElementById(\"dunkButton\").addEventListener(\"click\", function() {\n",
       "            alert(\"You've been dunked on by LeBron James!\");\n",
       "        });\n",
       "    </script>\n",
       "</body>\n",
       "</html>\n"
      ],
      "text/plain": [
       "<IPython.core.display.HTML object>"
      ]
     },
     "metadata": {},
     "output_type": "display_data"
    }
   ],
   "source": [
    "%%html\n",
    "\n",
    "<html>\n",
    "<head>\n",
    "</head>\n",
    "<body>\n",
    "    <div>\n",
    "        <p>LeBron James is a legendary basketball player known for his incredible skills on the court. He has won numerous championships and awards throughout his career!</p>\n",
    "        <button id=\"dunkButton\">\"Dunk\"!</button>\n",
    "    </div>\n",
    "    <div>\n",
    "        <a href=\"https://docs.google.com/document/d/160j5RblFoiSHhxt9o7BoCjeJxp2bmlFhHIhuBIXGMgM/edit\">LeBron James Dunk</a>\n",
    "        <a href=\"https://docs.google.com/document/d/1qSDVEV-sg9p-vrqG6FtVjlf8HdwCwc7TJXfN6eNRJUk/edit\">LeBron James Image</a>\n",
    "        <p>Overall, LeBron James is an iconic basketball player and a true legend in the world of sports!</p>\n",
    "    </div>\n",
    "\n",
    "    <script>\n",
    "        document.getElementById(\"dunkButton\").addEventListener(\"click\", function() {\n",
    "            alert(\"You've been dunked on by LeBron James!\");\n",
    "        });\n",
    "    </script>\n",
    "</body>\n",
    "</html>"
   ]
  }
 ],
 "metadata": {
  "kernelspec": {
   "display_name": "Python 3",
   "language": "python",
   "name": "python3"
  },
  "language_info": {
   "codemirror_mode": {
    "name": "ipython",
    "version": 3
   },
   "file_extension": ".py",
   "mimetype": "text/x-python",
   "name": "python",
   "nbconvert_exporter": "python",
   "pygments_lexer": "ipython3",
   "version": "3.10.12"
  },
  "orig_nbformat": 4
 },
 "nbformat": 4,
 "nbformat_minor": 2
}

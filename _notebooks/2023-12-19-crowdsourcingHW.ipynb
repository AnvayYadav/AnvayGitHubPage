{
 "cells": [
  {
   "cell_type": "markdown",
   "metadata": {},
   "source": [
    "---\n",
    "layout: post\n",
    "title: Crowdsourcing HW\n",
    "description: Crowdsourcing HW\n",
    "type: tangibles\n",
    "author: Safin Singh and Rohan Juneja\n",
    "permalink: /basics/js-debug\n",
    "comments: True \n",
    "courses: {compsci: {week: 12} }\n",
    "---"
   ]
  },
  {
   "cell_type": "markdown",
   "metadata": {},
   "source": [
    "Answer 1:\n",
    "Crowdsourcing is a collaborative approach that involves obtaining input, ideas, services, or content from a large group of people, typically via the internet. This collective effort is used to achieve a specific goal, often leveraging the diversity and expertise of the crowd. In open-source software development, projects like Linux or Mozilla Firefox rely on contributions from a global community of developers to improve and innovate their software. Citizen science engages the public in collecting and analyzing data for research purposes, as seen in platforms like Zooniverse. Crowdfunding platforms like Kickstarter enable individuals or businesses to raise funds for creative projects by collecting small contributions from a large number of people.\n",
    "\n",
    "Answer 2:\n",
    "Crowdsourcing comes with both benefits and challenges. On the positive side, organizations gain access to diverse expertise, cost-effective solutions, and efficient task completion. However, challenges include maintaining quality control, effective coordination, and addressing intellectual property concerns. To harness the power of crowdsourcing effectively, organizations should provide clear guidelines, establish feedback mechanisms for quality control, offer appropriate incentives, and focus on community building. By addressing these aspects, organizations can maximize the advantages of crowdsourcing while mitigating potential drawbacks.\n",
    "\n",
    "Answer 3:\n",
    "A notable real-world example of a successful crowdsourcing project is Wikipedia. Launched in 2001, Wikipedia relies on a vast community of volunteers to collaboratively create and edit articles on a wide range of topics. The goal of Wikipedia is to provide free, reliable information to people worldwide. The positive outcomes include the creation of a comprehensive and constantly updated encyclopedia, showcasing the power of collective knowledge and collaboration. Wikipedia has become a go-to source for information, demonstrating the success of harnessing the collective intelligence of a large group of contributors.\n",
    "\n",
    "Answer 4:\n",
    "In a hypothetical scenario aimed at enhancing urban mobility, a city faces challenges with its public transportation system's efficiency and accessibility. The problem involves optimizing routes, improving the overall experience for commuters, and addressing last-mile connectivity issues. To solve this, the city could launch a crowdsourcing initiative, seeking contributions from residents to identify problem areas, propose innovative solutions, and share insights on improving transportation services. Citizens could provide data on commuting patterns, suggest alternative routes, and propose technology solutions for better information dissemination. Implementing the crowdsourced solutions could lead to a more efficient and user-friendly public transportation system, positively impacting the daily lives of residents and fostering a sense of community engagement in addressing urban challenges."
   ]
  }
 ],
 "metadata": {
  "language_info": {
   "name": "python"
  }
 },
 "nbformat": 4,
 "nbformat_minor": 2
}
